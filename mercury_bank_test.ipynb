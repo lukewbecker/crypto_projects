{
 "cells": [
  {
   "cell_type": "code",
   "execution_count": 1,
   "metadata": {},
   "outputs": [],
   "source": [
    "# Importing basic libraries:\n",
    "import numpy as np\n",
    "import pandas as pd\n",
    "import matplotlib.pyplot as plt\n",
    "\n",
    "# Importing additional libraries to access API:\n",
    "\n",
    "import os\n",
    "import requests"
   ]
  },
  {
   "cell_type": "code",
   "execution_count": 3,
   "metadata": {},
   "outputs": [],
   "source": [
    "# Importing the env for API keys\n",
    "\n",
    "import env"
   ]
  },
  {
   "cell_type": "code",
   "execution_count": 5,
   "metadata": {},
   "outputs": [],
   "source": [
    "bank_key = env.mercury_bank"
   ]
  },
  {
   "cell_type": "code",
   "execution_count": 10,
   "metadata": {},
   "outputs": [],
   "source": [
    "key = \"Bearer \" + bank_key"
   ]
  },
  {
   "cell_type": "markdown",
   "metadata": {},
   "source": [
    "## Account info\n",
    "\n",
    "- Using Mercury recipie to quickly get started up using the API."
   ]
  },
  {
   "cell_type": "code",
   "execution_count": 12,
   "metadata": {},
   "outputs": [
    {
     "name": "stdout",
     "output_type": "stream",
     "text": [
      "{\"accounts\":[{\"id\":\"c1dee0bc-a124-11eb-b089-13fd95e6882b\",\"accountNumber\":\"9800645817\",\"routingNumber\":\"084106768\",\"name\":\"Mercury Checking ••5817\",\"status\":\"active\",\"type\":\"mercury\",\"createdAt\":\"2021-04-19T15:34:40.79489Z\",\"availableBalance\":1000,\"currentBalance\":1000,\"kind\":\"checking\",\"canReceiveTransactions\":true,\"nickname\":null,\"legalBusinessName\":\"Eighty Oaks Holdings, LLC\"},{\"id\":\"cae52950-a124-11eb-9cb0-2b8ef9b2c459\",\"accountNumber\":\"9880429930\",\"routingNumber\":\"084106768\",\"name\":\"Mercury Savings ••9930\",\"status\":\"active\",\"type\":\"mercury\",\"createdAt\":\"2021-04-19T15:34:55.983778Z\",\"availableBalance\":0,\"currentBalance\":0,\"kind\":\"savings\",\"canReceiveTransactions\":true,\"nickname\":null,\"legalBusinessName\":\"Eighty Oaks Holdings, LLC\"}]}\n"
     ]
    }
   ],
   "source": [
    "url = \"https://backend.mercury.com/api/v1/accounts\"\n",
    "\n",
    "headers = {\n",
    "    \"Accept\": \"application/json\",\n",
    "    \"Content-Type\": \"application/json\",\n",
    "    \"Authorization\": key\n",
    "}\n",
    "\n",
    "response = requests.request(\"GET\", url, headers=headers)\n",
    "\n",
    "print(response.text)"
   ]
  },
  {
   "cell_type": "code",
   "execution_count": 28,
   "metadata": {},
   "outputs": [],
   "source": [
    "# Creating a function:\n",
    "\n",
    "def get_accounts(key):\n",
    "    \n",
    "    url = \"https://backend.mercury.com/api/v1/accounts\"\n",
    "\n",
    "    headers = {\n",
    "        \"Accept\": \"application/json\",\n",
    "        \"Content-Type\": \"application/json\",\n",
    "        \"Authorization\": key\n",
    "    }\n",
    "\n",
    "    response = requests.request(\"GET\", url, headers=headers)\n",
    "    \n",
    "    return response.json()\n",
    "    "
   ]
  },
  {
   "cell_type": "code",
   "execution_count": 29,
   "metadata": {},
   "outputs": [
    {
     "data": {
      "text/plain": [
       "{'accounts': [{'id': 'c1dee0bc-a124-11eb-b089-13fd95e6882b',\n",
       "   'accountNumber': '9800645817',\n",
       "   'routingNumber': '084106768',\n",
       "   'name': 'Mercury Checking ••5817',\n",
       "   'status': 'active',\n",
       "   'type': 'mercury',\n",
       "   'createdAt': '2021-04-19T15:34:40.79489Z',\n",
       "   'availableBalance': 1000,\n",
       "   'currentBalance': 1000,\n",
       "   'kind': 'checking',\n",
       "   'canReceiveTransactions': True,\n",
       "   'nickname': None,\n",
       "   'legalBusinessName': 'Eighty Oaks Holdings, LLC'},\n",
       "  {'id': 'cae52950-a124-11eb-9cb0-2b8ef9b2c459',\n",
       "   'accountNumber': '9880429930',\n",
       "   'routingNumber': '084106768',\n",
       "   'name': 'Mercury Savings ••9930',\n",
       "   'status': 'active',\n",
       "   'type': 'mercury',\n",
       "   'createdAt': '2021-04-19T15:34:55.983778Z',\n",
       "   'availableBalance': 0,\n",
       "   'currentBalance': 0,\n",
       "   'kind': 'savings',\n",
       "   'canReceiveTransactions': True,\n",
       "   'nickname': None,\n",
       "   'legalBusinessName': 'Eighty Oaks Holdings, LLC'}]}"
      ]
     },
     "execution_count": 29,
     "metadata": {},
     "output_type": "execute_result"
    }
   ],
   "source": [
    "get_accounts(key)"
   ]
  },
  {
   "cell_type": "code",
   "execution_count": 30,
   "metadata": {},
   "outputs": [
    {
     "data": {
      "text/plain": [
       "dict_keys(['accounts'])"
      ]
     },
     "execution_count": 30,
     "metadata": {},
     "output_type": "execute_result"
    }
   ],
   "source": [
    "data = get_accounts(key)\n",
    "data.keys()"
   ]
  },
  {
   "cell_type": "code",
   "execution_count": 35,
   "metadata": {},
   "outputs": [
    {
     "name": "stdout",
     "output_type": "stream",
     "text": [
      "1000\n"
     ]
    }
   ],
   "source": [
    "print(data['accounts'][0]['availableBalance'])"
   ]
  },
  {
   "cell_type": "code",
   "execution_count": 41,
   "metadata": {},
   "outputs": [
    {
     "data": {
      "text/html": [
       "<div>\n",
       "<style scoped>\n",
       "    .dataframe tbody tr th:only-of-type {\n",
       "        vertical-align: middle;\n",
       "    }\n",
       "\n",
       "    .dataframe tbody tr th {\n",
       "        vertical-align: top;\n",
       "    }\n",
       "\n",
       "    .dataframe thead th {\n",
       "        text-align: right;\n",
       "    }\n",
       "</style>\n",
       "<table border=\"1\" class=\"dataframe\">\n",
       "  <thead>\n",
       "    <tr style=\"text-align: right;\">\n",
       "      <th></th>\n",
       "      <th>id</th>\n",
       "      <th>accountNumber</th>\n",
       "      <th>routingNumber</th>\n",
       "      <th>name</th>\n",
       "      <th>status</th>\n",
       "      <th>type</th>\n",
       "      <th>createdAt</th>\n",
       "      <th>availableBalance</th>\n",
       "      <th>currentBalance</th>\n",
       "      <th>kind</th>\n",
       "      <th>canReceiveTransactions</th>\n",
       "      <th>nickname</th>\n",
       "      <th>legalBusinessName</th>\n",
       "    </tr>\n",
       "  </thead>\n",
       "  <tbody>\n",
       "    <tr>\n",
       "      <th>0</th>\n",
       "      <td>c1dee0bc-a124-11eb-b089-13fd95e6882b</td>\n",
       "      <td>9800645817</td>\n",
       "      <td>084106768</td>\n",
       "      <td>Mercury Checking ••5817</td>\n",
       "      <td>active</td>\n",
       "      <td>mercury</td>\n",
       "      <td>2021-04-19T15:34:40.79489Z</td>\n",
       "      <td>1000</td>\n",
       "      <td>1000</td>\n",
       "      <td>checking</td>\n",
       "      <td>True</td>\n",
       "      <td>None</td>\n",
       "      <td>Eighty Oaks Holdings, LLC</td>\n",
       "    </tr>\n",
       "  </tbody>\n",
       "</table>\n",
       "</div>"
      ],
      "text/plain": [
       "                                     id accountNumber routingNumber  \\\n",
       "0  c1dee0bc-a124-11eb-b089-13fd95e6882b    9800645817     084106768   \n",
       "\n",
       "                      name  status     type                   createdAt  \\\n",
       "0  Mercury Checking ••5817  active  mercury  2021-04-19T15:34:40.79489Z   \n",
       "\n",
       "   availableBalance  currentBalance      kind  canReceiveTransactions  \\\n",
       "0              1000            1000  checking                    True   \n",
       "\n",
       "  nickname          legalBusinessName  \n",
       "0     None  Eighty Oaks Holdings, LLC  "
      ]
     },
     "execution_count": 41,
     "metadata": {},
     "output_type": "execute_result"
    }
   ],
   "source": [
    "pd.DataFrame(data['accounts'][0], index = [0])"
   ]
  },
  {
   "cell_type": "code",
   "execution_count": null,
   "metadata": {},
   "outputs": [],
   "source": []
  }
 ],
 "metadata": {
  "kernelspec": {
   "display_name": "Python 3",
   "language": "python",
   "name": "python3"
  },
  "language_info": {
   "codemirror_mode": {
    "name": "ipython",
    "version": 3
   },
   "file_extension": ".py",
   "mimetype": "text/x-python",
   "name": "python",
   "nbconvert_exporter": "python",
   "pygments_lexer": "ipython3",
   "version": "3.8.5"
  }
 },
 "nbformat": 4,
 "nbformat_minor": 4
}
